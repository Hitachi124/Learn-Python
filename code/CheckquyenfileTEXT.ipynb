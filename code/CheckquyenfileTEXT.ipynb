{
 "cells": [
  {
   "cell_type": "code",
   "execution_count": 3,
   "id": "60a70c0c-f19e-4038-af11-b2a8aad40de8",
   "metadata": {},
   "outputs": [
    {
     "name": "stdout",
     "output_type": "stream",
     "text": [
      "Không có quyền đọc file /Users/lengochuynh/Downloads/bike_rentals.txt\n",
      "Vui lòng kiểm tra quyền truy cập file hoặc chạy với quyền admin\n"
     ]
    }
   ],
   "source": [
    "import csv\n",
    "import os\n",
    "\n",
    "def txt_to_csv(input_file, output_file, delimiter='\\t'):\n",
    "    \"\"\"\n",
    "    Chuyển đổi file txt sang csv\n",
    "    \n",
    "    Parameters:\n",
    "    input_file (str): Đường dẫn đến file txt đầu vào\n",
    "    output_file (str): Đường dẫn đến file csv đầu ra\n",
    "    delimiter (str): Ký tự phân cách trong file txt (mặc định là tab)\n",
    "    \"\"\"\n",
    "    try:\n",
    "        # Kiểm tra quyền đọc file đầu vào\n",
    "        if not os.access(input_file, os.R_OK):\n",
    "            print(f\"Không có quyền đọc file {input_file}\")\n",
    "            print(\"Vui lòng kiểm tra quyền truy cập file hoặc chạy với quyền admin\")\n",
    "            return\n",
    "\n",
    "        # Kiểm tra thư mục đầu ra có quyền ghi\n",
    "        output_dir = os.path.dirname(output_file) or '.'\n",
    "        if not os.access(output_dir, os.W_OK):\n",
    "            print(f\"Không có quyền ghi vào thư mục {output_dir}\")\n",
    "            print(\"Vui lòng kiểm tra quyền truy cập thư mục hoặc chọn thư mục khác\")\n",
    "            return\n",
    "\n",
    "        # Đọc file txt\n",
    "        with open(input_file, 'r', encoding='utf-8') as txt_file:\n",
    "            # Đọc tất cả các dòng\n",
    "            lines = txt_file.readlines()\n",
    "            \n",
    "            # Tách mỗi dòng thành list các giá trị\n",
    "            data = [line.strip().split(delimiter) for line in lines]\n",
    "            \n",
    "        # Ghi vào file csv\n",
    "        with open(output_file, 'w', newline='', encoding='utf-8') as csv_file:\n",
    "            writer = csv.writer(csv_file)\n",
    "            # Ghi từng dòng vào file csv\n",
    "            writer.writerows(data)\n",
    "            \n",
    "        print(f\"Chuyển đổi thành công từ {input_file} sang {output_file}\")\n",
    "        \n",
    "    except FileNotFoundError:\n",
    "        print(f\"Không tìm thấy file {input_file}\")\n",
    "    except PermissionError:\n",
    "        print(f\"Lỗi quyền truy cập - Vui lòng kiểm tra:\")\n",
    "        print(\"1. Quyền đọc file đầu vào\")\n",
    "        print(\"2. Quyền ghi vào thư mục đầu ra\")\n",
    "        print(\"3. File đầu ra không bị khóa bởi chương trình khác\")\n",
    "    except Exception as e:\n",
    "        print(f\"Có lỗi xảy ra: {str(e)}\")\n",
    "        print(\"Vui lòng kiểm tra:\")\n",
    "        print(\"1. Đường dẫn file có chính xác không\")\n",
    "        print(\"2. File có bị hỏng không\")\n",
    "        print(\"3. Định dạng file có đúng không\")\n",
    "\n",
    "# Ví dụ sử dụng\n",
    "if __name__ == \"__main__\":\n",
    "    # Sử dụng đường dẫn tương đối hoặc tuyệt đối\n",
    "    txt_to_csv('/Users/lengochuynh/Downloads/bike_rentals.txt', '/Users/lengochuynh/Downloads/bike_rentals.csv')"
   ]
  },
  {
   "cell_type": "code",
   "execution_count": null,
   "id": "0f7edfbd-cdd5-4cb2-9601-685b1f53f9af",
   "metadata": {},
   "outputs": [],
   "source": []
  },
  {
   "cell_type": "code",
   "execution_count": null,
   "id": "33ab0e03-92bb-4bf9-a409-3cc63aa64c71",
   "metadata": {},
   "outputs": [],
   "source": []
  },
  {
   "cell_type": "code",
   "execution_count": null,
   "id": "95b3e043-cd67-4edf-a632-b777c28550c9",
   "metadata": {},
   "outputs": [],
   "source": []
  }
 ],
 "metadata": {
  "kernelspec": {
   "display_name": "Python [conda env:base] *",
   "language": "python",
   "name": "conda-base-py"
  },
  "language_info": {
   "codemirror_mode": {
    "name": "ipython",
    "version": 3
   },
   "file_extension": ".py",
   "mimetype": "text/x-python",
   "name": "python",
   "nbconvert_exporter": "python",
   "pygments_lexer": "ipython3",
   "version": "3.12.2"
  }
 },
 "nbformat": 4,
 "nbformat_minor": 5
}
